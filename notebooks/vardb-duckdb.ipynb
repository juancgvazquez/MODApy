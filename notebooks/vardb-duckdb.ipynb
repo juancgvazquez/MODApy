{
 "cells": [
  {
   "cell_type": "code",
   "execution_count": 1,
   "metadata": {},
   "outputs": [],
   "source": [
    "from MODApy import vardb\n",
    "from MODApy.vcfmgr import ParsedVCF\n",
    "import pandas as pd\n",
    "import duckdb"
   ]
  },
  {
   "cell_type": "code",
   "execution_count": 17,
   "metadata": {},
   "outputs": [],
   "source": [
    "df = ParsedVCF.from_vcf('../../data/Patients/BM23-49617_MODApy/BM23-49617_MODApy.final.vcf')"
   ]
  },
  {
   "cell_type": "code",
   "execution_count": 3,
   "metadata": {},
   "outputs": [
    {
     "data": {
      "text/plain": [
       "'BM23-49617_MODApy'"
      ]
     },
     "execution_count": 3,
     "metadata": {},
     "output_type": "execute_result"
    }
   ],
   "source": [
    "df.name"
   ]
  },
  {
   "cell_type": "code",
   "execution_count": 7,
   "metadata": {},
   "outputs": [
    {
     "data": {
      "text/plain": [
       "┌────────────┬─────────┬────────────┬──────────────────────┬───────────────────────────────────────────────┬───────────┐\n",
       "│  database  │ schema  │    name    │     column_names     │                 column_types                  │ temporary │\n",
       "│  varchar   │ varchar │  varchar   │      varchar[]       │                   varchar[]                   │  boolean  │\n",
       "├────────────┼─────────┼────────────┼──────────────────────┼───────────────────────────────────────────────┼───────────┤\n",
       "│ variantsDB │ main    │ temp_varDB │ [CHROM, POS, REF, …  │ [VARCHAR, BIGINT, VARCHAR, VARCHAR, VARCHAR…  │ false     │\n",
       "│ variantsDB │ main    │ vars       │ [name, value]        │ [VARCHAR, VARCHAR]                            │ false     │\n",
       "└────────────┴─────────┴────────────┴──────────────────────┴───────────────────────────────────────────────┴───────────┘"
      ]
     },
     "execution_count": 7,
     "metadata": {},
     "output_type": "execute_result"
    }
   ],
   "source": [
    "variantsdb = vardb.VarDB('file','../../data/variantsDB/variantsDB.db')\n",
    "variantsdb.conn.sql('SHOW ALL TABLES')"
   ]
  },
  {
   "cell_type": "code",
   "execution_count": 11,
   "metadata": {},
   "outputs": [],
   "source": [
    "df_table_describe = variantsdb.conn.sql('DESCRIBE temp_varDB').to_df()"
   ]
  },
  {
   "cell_type": "code",
   "execution_count": 25,
   "metadata": {},
   "outputs": [
    {
     "name": "stdout",
     "output_type": "stream",
     "text": [
      "┌──────────────┐\n",
      "│ count_star() │\n",
      "│    int64     │\n",
      "├──────────────┤\n",
      "│          511 │\n",
      "└──────────────┘\n",
      "\n"
     ]
    }
   ],
   "source": [
    "variantsdb.conn.sql(\"SELECT count(*) FROM information_schema.columns WHERE table_name = 'temp_varDB' LIMIT 100\").show()"
   ]
  },
  {
   "cell_type": "code",
   "execution_count": 16,
   "metadata": {},
   "outputs": [
    {
     "data": {
      "text/plain": [
       "False"
      ]
     },
     "execution_count": 16,
     "metadata": {},
     "output_type": "execute_result"
    }
   ],
   "source": [
    "'BM23-49619_MODApy' in df.column_name.to_list()"
   ]
  },
  {
   "cell_type": "code",
   "execution_count": 41,
   "metadata": {},
   "outputs": [],
   "source": [
    "df.name = 'BM23-49619_MODApy'"
   ]
  },
  {
   "cell_type": "code",
   "execution_count": 42,
   "metadata": {},
   "outputs": [],
   "source": [
    "sql = f'''WITH new_pat AS (SELECT CHROM,\n",
    "                POS,\n",
    "                REF,\n",
    "                ALT,\n",
    "                \"HGVS.C\",\n",
    "                \"HGVS.P\",\n",
    "                ZIGOSITY AS '{df.name}'\n",
    "                FROM df)\n",
    "            SELECT * FROM new_pat\n",
    "            UNION BY NAME\n",
    "            SELECT * from temp_varDB'''\n"
   ]
  },
  {
   "cell_type": "code",
   "execution_count": 50,
   "metadata": {},
   "outputs": [],
   "source": [
    "list_before = variantsdb.conn.sql('SELECT * FROM temp_varDB').columns"
   ]
  },
  {
   "cell_type": "code",
   "execution_count": 49,
   "metadata": {},
   "outputs": [],
   "source": [
    "list_after = variantsdb.conn.sql(sql).columns"
   ]
  },
  {
   "cell_type": "code",
   "execution_count": 51,
   "metadata": {},
   "outputs": [
    {
     "data": {
      "text/plain": [
       "False"
      ]
     },
     "execution_count": 51,
     "metadata": {},
     "output_type": "execute_result"
    }
   ],
   "source": [
    "'BM23-49619_MODApy' in list_before"
   ]
  },
  {
   "cell_type": "code",
   "execution_count": 52,
   "metadata": {},
   "outputs": [
    {
     "data": {
      "text/plain": [
       "True"
      ]
     },
     "execution_count": 52,
     "metadata": {},
     "output_type": "execute_result"
    }
   ],
   "source": [
    "'BM23-49619_MODApy' in list_after"
   ]
  },
  {
   "cell_type": "code",
   "execution_count": null,
   "metadata": {},
   "outputs": [],
   "source": []
  }
 ],
 "metadata": {
  "kernelspec": {
   "display_name": ".venv",
   "language": "python",
   "name": "python3"
  },
  "language_info": {
   "codemirror_mode": {
    "name": "ipython",
    "version": 3
   },
   "file_extension": ".py",
   "mimetype": "text/x-python",
   "name": "python",
   "nbconvert_exporter": "python",
   "pygments_lexer": "ipython3",
   "version": "3.11.9"
  }
 },
 "nbformat": 4,
 "nbformat_minor": 2
}
