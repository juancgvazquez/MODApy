{
 "cells": [
  {
   "cell_type": "code",
   "execution_count": 1,
   "metadata": {},
   "outputs": [],
   "source": [
    "import duckdb\n",
    "import glob\n",
    "import logging\n",
    "import os\n",
    "import cyvcf2"
   ]
  },
  {
   "cell_type": "code",
   "execution_count": 2,
   "metadata": {},
   "outputs": [],
   "source": [
    "logger = logging.getLogger(__name__)"
   ]
  },
  {
   "cell_type": "code",
   "execution_count": 3,
   "metadata": {},
   "outputs": [],
   "source": [
    "def patientLister(patientPath,db=None):\n",
    "            vcfspath = glob.glob(patientPath+'**/*.vcf',\n",
    "                                recursive=True)\n",
    "            try:\n",
    "                vcfsnames = [cyvcf2.Reader(x).samples[0] for x in vcfspath]\n",
    "            except Exception as e:\n",
    "                logger.info(\n",
    "                    \"No Sample name in one of the vcfs files. Using File Names Instead\"\n",
    "                )\n",
    "                logger.debug(str(e))\n",
    "                vcfsnames = [\n",
    "                    x.rsplit(\"/\", maxsplit=1)[-1].strip(\".final.vcf\") for x in vcfspath\n",
    "                ]\n",
    "\n",
    "            if db is not None:\n",
    "                addpatnames = [\n",
    "                    x\n",
    "                    for x in vcfsnames\n",
    "                    if (\n",
    "                        x not in db.columns\n",
    "                        and x + \"_MODApy\" not in db.columns\n",
    "                        and x.replace(\"_MODApy\", \"\") not in db.columns\n",
    "                    )\n",
    "                ]\n",
    "                if len(addpatnames) >= 1:\n",
    "                    logger.info(\"Adding Patients: {}\".format([x for x in addpatnames]))\n",
    "                else:\n",
    "                    logger.error(\"No Patients to Add\")\n",
    "                    exit(1)\n",
    "                patientslist = [x for x in vcfspath for y in addpatnames if y in x]\n",
    "            else:\n",
    "                patientslist = vcfspath\n",
    "            vcfsnames = [x.split('_MODApy')[0] for x in vcfsnames]\n",
    "            patientslist = [x.replace('.vcf','.parquet') for x in patientslist]\n",
    "            patientslist = tuple(zip(vcfsnames,patientslist))\n",
    "            return patientslist"
   ]
  },
  {
   "cell_type": "code",
   "execution_count": 4,
   "metadata": {},
   "outputs": [],
   "source": [
    "patient_list = patientLister(\"../../data/Patients/test_patients/\",db=None)"
   ]
  },
  {
   "cell_type": "code",
   "execution_count": 5,
   "metadata": {},
   "outputs": [
    {
     "data": {
      "text/plain": [
       "(('BM23-48263',\n",
       "  '../../data/Patients/test_patients/BM23-48263_MODApy/BM23-48263_MODApy.final.parquet'),\n",
       " ('33745', '../../data/Patients/test_patients/33745/33745.final.parquet'),\n",
       " ('32238',\n",
       "  '../../data/Patients/test_patients/32238/32238.Filtered.Variants.parquet'),\n",
       " ('34424', '../../data/Patients/test_patients/34424_A/34424_A.final.parquet'),\n",
       " ('34352', '../../data/Patients/test_patients/34352/34352.final.parquet'),\n",
       " ('34424', '../../data/Patients/test_patients/34424/34424.final.parquet'),\n",
       " ('34082', '../../data/Patients/test_patients/34082/34082.final.parquet'),\n",
       " ('31973', '../../data/Patients/test_patients/31973/31973.final.parquet'),\n",
       " ('33325', '../../data/Patients/test_patients/33325/33325.final.parquet'),\n",
       " ('32186',\n",
       "  '../../data/Patients/test_patients/32186/32186.Filtered.Variants.parquet'))"
      ]
     },
     "execution_count": 5,
     "metadata": {},
     "output_type": "execute_result"
    }
   ],
   "source": [
    "patient_list"
   ]
  },
  {
   "cell_type": "code",
   "execution_count": 7,
   "metadata": {},
   "outputs": [],
   "source": [
    "conn = duckdb.connect(database='./variants.db', read_only=False)"
   ]
  },
  {
   "cell_type": "code",
   "execution_count": 8,
   "metadata": {},
   "outputs": [
    {
     "name": "stdout",
     "output_type": "stream",
     "text": [
      "Processing file 1 of 10\n",
      "Adding Patient BM23-48263 to exome_patients\n"
     ]
    },
    {
     "data": {
      "application/vnd.jupyter.widget-view+json": {
       "model_id": "1940275f13d743929f6d56dba1bd74c5",
       "version_major": 2,
       "version_minor": 0
      },
      "text/plain": [
       "FloatProgress(value=0.0, layout=Layout(width='auto'), style=ProgressStyle(bar_color='black'))"
      ]
     },
     "metadata": {},
     "output_type": "display_data"
    },
    {
     "data": {
      "application/vnd.jupyter.widget-view+json": {
       "model_id": "99851d7008c8445c9e70a944a916b1dc",
       "version_major": 2,
       "version_minor": 0
      },
      "text/plain": [
       "FloatProgress(value=0.0, layout=Layout(width='auto'), style=ProgressStyle(bar_color='black'))"
      ]
     },
     "metadata": {},
     "output_type": "display_data"
    },
    {
     "name": "stdout",
     "output_type": "stream",
     "text": [
      "Added Patient BM23-48263 to exome_patients\n",
      "Processing file 2 of 10\n",
      "Adding Patient 33745 to exome_patients\n",
      "Error adding patient 33745 to exome_patients\n",
      "Binder Error: Set operations can only apply to expressions with the same number of result columns\n",
      "Processing file 3 of 10\n",
      "Adding Patient 32238 to exome_patients\n",
      "Error adding patient 32238 to exome_patients\n",
      "Binder Error: Set operations can only apply to expressions with the same number of result columns\n",
      "Processing file 4 of 10\n",
      "Adding Patient 34424 to exome_patients\n",
      "Error adding patient 34424 to exome_patients\n",
      "Binder Error: Set operations can only apply to expressions with the same number of result columns\n",
      "Processing file 5 of 10\n",
      "Adding Patient 34352 to exome_patients\n",
      "Error adding patient 34352 to exome_patients\n",
      "Binder Error: Set operations can only apply to expressions with the same number of result columns\n",
      "Processing file 6 of 10\n",
      "Adding Patient 34424 to exome_patients\n",
      "Error adding patient 34424 to exome_patients\n",
      "Binder Error: Set operations can only apply to expressions with the same number of result columns\n",
      "Processing file 7 of 10\n",
      "Adding Patient 34082 to exome_patients\n",
      "Error adding patient 34082 to exome_patients\n",
      "Binder Error: Set operations can only apply to expressions with the same number of result columns\n",
      "Processing file 8 of 10\n",
      "Adding Patient 31973 to exome_patients\n",
      "Error adding patient 31973 to exome_patients\n",
      "Binder Error: Set operations can only apply to expressions with the same number of result columns\n",
      "Processing file 9 of 10\n",
      "Adding Patient 33325 to exome_patients\n",
      "Error adding patient 33325 to exome_patients\n",
      "Binder Error: Set operations can only apply to expressions with the same number of result columns\n",
      "Processing file 10 of 10\n",
      "Adding Patient 32186 to exome_patients\n",
      "Error adding patient 32186 to exome_patients\n",
      "Binder Error: Set operations can only apply to expressions with the same number of result columns\n"
     ]
    }
   ],
   "source": [
    "total = len(patient_list)\n",
    "counter = 0\n",
    "table_name = 'exome_patients'\n",
    "for patient in patient_list:\n",
    "    try:\n",
    "        counter += 1\n",
    "        print(f'Processing file {counter} of {total}')\n",
    "        print(f'Adding Patient {patient[0]} to {table_name}')\n",
    "        patient_name = patient[0].replace('-','_').lower()\n",
    "        create_query = f\"\"\"CREATE TABLE IF NOT EXISTS exome_patients AS (\n",
    "        SELECT *, '{patient_name}' AS sample\n",
    "        FROM '{patient[1]}'\n",
    "        );\"\"\"    \n",
    "        query = f\"\"\"INSERT INTO {table_name} BY NAME (SELECT *, '{patient_name}' as sample FROM '{patient[1]}' UNION SELECT * FROM {table_name} LIMIT 1);\"\"\"\n",
    "        conn.execute(create_query)\n",
    "        conn.execute(query)\n",
    "        print(f'Added Patient {patient[0]} to {table_name}')\n",
    "    except Exception as e:\n",
    "        print(f'Error adding patient {patient[0]} to {table_name}')\n",
    "        print(str(e))\n",
    "        continue\n"
   ]
  },
  {
   "cell_type": "code",
   "execution_count": 9,
   "metadata": {},
   "outputs": [
    {
     "data": {
      "text/plain": [
       "[('exome_patients',)]"
      ]
     },
     "execution_count": 9,
     "metadata": {},
     "output_type": "execute_result"
    }
   ],
   "source": [
    "conn.execute(\"SHOW TABLES\").fetchall()"
   ]
  },
  {
   "cell_type": "code",
   "execution_count": 10,
   "metadata": {},
   "outputs": [],
   "source": [
    "df = conn.execute(\"SELECT * FROM exome_patients LIMIT 10\").fetchdf()"
   ]
  },
  {
   "cell_type": "code",
   "execution_count": 11,
   "metadata": {},
   "outputs": [
    {
     "data": {
      "text/html": [
       "<div>\n",
       "<style scoped>\n",
       "    .dataframe tbody tr th:only-of-type {\n",
       "        vertical-align: middle;\n",
       "    }\n",
       "\n",
       "    .dataframe tbody tr th {\n",
       "        vertical-align: top;\n",
       "    }\n",
       "\n",
       "    .dataframe thead th {\n",
       "        text-align: right;\n",
       "    }\n",
       "</style>\n",
       "<table border=\"1\" class=\"dataframe\">\n",
       "  <thead>\n",
       "    <tr style=\"text-align: right;\">\n",
       "      <th></th>\n",
       "      <th>CHROM</th>\n",
       "      <th>POS</th>\n",
       "      <th>REF</th>\n",
       "      <th>QUAL</th>\n",
       "      <th>FILTER</th>\n",
       "      <th>AN</th>\n",
       "      <th>BASEQRANKSUM</th>\n",
       "      <th>CLIPPINGRANKSUM</th>\n",
       "      <th>DP</th>\n",
       "      <th>FS</th>\n",
       "      <th>...</th>\n",
       "      <th>RANK</th>\n",
       "      <th>HGVS.C</th>\n",
       "      <th>HGVS.P</th>\n",
       "      <th>CDNA.POS / CDNA.LENGTH</th>\n",
       "      <th>CDS.POS / CDS.LENGTH</th>\n",
       "      <th>AA.POS / AA.LENGTH</th>\n",
       "      <th>DISTANCE</th>\n",
       "      <th>ERRORS / WARNINGS / INFO</th>\n",
       "      <th>AMINOCHANGE</th>\n",
       "      <th>sample</th>\n",
       "    </tr>\n",
       "  </thead>\n",
       "  <tbody>\n",
       "    <tr>\n",
       "      <th>0</th>\n",
       "      <td>chr1</td>\n",
       "      <td>14653</td>\n",
       "      <td>C</td>\n",
       "      <td>48.77</td>\n",
       "      <td>.</td>\n",
       "      <td>2.0</td>\n",
       "      <td>0.217</td>\n",
       "      <td>-0.65</td>\n",
       "      <td>15.0</td>\n",
       "      <td>0.0</td>\n",
       "      <td>...</td>\n",
       "      <td>.</td>\n",
       "      <td>n.*244C&gt;T</td>\n",
       "      <td>.</td>\n",
       "      <td>.</td>\n",
       "      <td>.</td>\n",
       "      <td>.</td>\n",
       "      <td>244</td>\n",
       "      <td>.</td>\n",
       "      <td>.</td>\n",
       "      <td>bm23_48263</td>\n",
       "    </tr>\n",
       "    <tr>\n",
       "      <th>1</th>\n",
       "      <td>chr1</td>\n",
       "      <td>14653</td>\n",
       "      <td>C</td>\n",
       "      <td>48.77</td>\n",
       "      <td>.</td>\n",
       "      <td>2.0</td>\n",
       "      <td>0.217</td>\n",
       "      <td>-0.65</td>\n",
       "      <td>15.0</td>\n",
       "      <td>0.0</td>\n",
       "      <td>...</td>\n",
       "      <td>.</td>\n",
       "      <td>n.*2716G&gt;A</td>\n",
       "      <td>.</td>\n",
       "      <td>.</td>\n",
       "      <td>.</td>\n",
       "      <td>.</td>\n",
       "      <td>2716</td>\n",
       "      <td>.</td>\n",
       "      <td>.</td>\n",
       "      <td>bm23_48263</td>\n",
       "    </tr>\n",
       "    <tr>\n",
       "      <th>2</th>\n",
       "      <td>chr1</td>\n",
       "      <td>14653</td>\n",
       "      <td>C</td>\n",
       "      <td>48.77</td>\n",
       "      <td>.</td>\n",
       "      <td>2.0</td>\n",
       "      <td>0.217</td>\n",
       "      <td>-0.65</td>\n",
       "      <td>15.0</td>\n",
       "      <td>0.0</td>\n",
       "      <td>...</td>\n",
       "      <td>.</td>\n",
       "      <td>n.*2716G&gt;A</td>\n",
       "      <td>.</td>\n",
       "      <td>.</td>\n",
       "      <td>.</td>\n",
       "      <td>.</td>\n",
       "      <td>2716</td>\n",
       "      <td>.</td>\n",
       "      <td>.</td>\n",
       "      <td>bm23_48263</td>\n",
       "    </tr>\n",
       "    <tr>\n",
       "      <th>3</th>\n",
       "      <td>chr1</td>\n",
       "      <td>14653</td>\n",
       "      <td>C</td>\n",
       "      <td>48.77</td>\n",
       "      <td>.</td>\n",
       "      <td>2.0</td>\n",
       "      <td>0.217</td>\n",
       "      <td>-0.65</td>\n",
       "      <td>15.0</td>\n",
       "      <td>0.0</td>\n",
       "      <td>...</td>\n",
       "      <td>.</td>\n",
       "      <td>n.*2716G&gt;A</td>\n",
       "      <td>.</td>\n",
       "      <td>.</td>\n",
       "      <td>.</td>\n",
       "      <td>.</td>\n",
       "      <td>2716</td>\n",
       "      <td>.</td>\n",
       "      <td>.</td>\n",
       "      <td>bm23_48263</td>\n",
       "    </tr>\n",
       "    <tr>\n",
       "      <th>4</th>\n",
       "      <td>chr1</td>\n",
       "      <td>14653</td>\n",
       "      <td>C</td>\n",
       "      <td>48.77</td>\n",
       "      <td>.</td>\n",
       "      <td>2.0</td>\n",
       "      <td>0.217</td>\n",
       "      <td>-0.65</td>\n",
       "      <td>15.0</td>\n",
       "      <td>0.0</td>\n",
       "      <td>...</td>\n",
       "      <td>.</td>\n",
       "      <td>n.*2716G&gt;A</td>\n",
       "      <td>.</td>\n",
       "      <td>.</td>\n",
       "      <td>.</td>\n",
       "      <td>.</td>\n",
       "      <td>2716</td>\n",
       "      <td>.</td>\n",
       "      <td>.</td>\n",
       "      <td>bm23_48263</td>\n",
       "    </tr>\n",
       "    <tr>\n",
       "      <th>5</th>\n",
       "      <td>chr1</td>\n",
       "      <td>14653</td>\n",
       "      <td>C</td>\n",
       "      <td>48.77</td>\n",
       "      <td>.</td>\n",
       "      <td>2.0</td>\n",
       "      <td>0.217</td>\n",
       "      <td>-0.65</td>\n",
       "      <td>15.0</td>\n",
       "      <td>0.0</td>\n",
       "      <td>...</td>\n",
       "      <td>11/11</td>\n",
       "      <td>n.1478G&gt;A</td>\n",
       "      <td>.</td>\n",
       "      <td>.</td>\n",
       "      <td>.</td>\n",
       "      <td>.</td>\n",
       "      <td>.</td>\n",
       "      <td>.</td>\n",
       "      <td>.</td>\n",
       "      <td>bm23_48263</td>\n",
       "    </tr>\n",
       "    <tr>\n",
       "      <th>6</th>\n",
       "      <td>chr1</td>\n",
       "      <td>14671</td>\n",
       "      <td>G</td>\n",
       "      <td>202.770004</td>\n",
       "      <td>.</td>\n",
       "      <td>2.0</td>\n",
       "      <td>-1.555</td>\n",
       "      <td>0.4</td>\n",
       "      <td>18.0</td>\n",
       "      <td>0.0</td>\n",
       "      <td>...</td>\n",
       "      <td>.</td>\n",
       "      <td>n.*262G&gt;C</td>\n",
       "      <td>.</td>\n",
       "      <td>.</td>\n",
       "      <td>.</td>\n",
       "      <td>.</td>\n",
       "      <td>262</td>\n",
       "      <td>.</td>\n",
       "      <td>.</td>\n",
       "      <td>bm23_48263</td>\n",
       "    </tr>\n",
       "    <tr>\n",
       "      <th>7</th>\n",
       "      <td>chr1</td>\n",
       "      <td>14671</td>\n",
       "      <td>G</td>\n",
       "      <td>202.770004</td>\n",
       "      <td>.</td>\n",
       "      <td>2.0</td>\n",
       "      <td>-1.555</td>\n",
       "      <td>0.4</td>\n",
       "      <td>18.0</td>\n",
       "      <td>0.0</td>\n",
       "      <td>...</td>\n",
       "      <td>.</td>\n",
       "      <td>n.*2698C&gt;G</td>\n",
       "      <td>.</td>\n",
       "      <td>.</td>\n",
       "      <td>.</td>\n",
       "      <td>.</td>\n",
       "      <td>2698</td>\n",
       "      <td>.</td>\n",
       "      <td>.</td>\n",
       "      <td>bm23_48263</td>\n",
       "    </tr>\n",
       "    <tr>\n",
       "      <th>8</th>\n",
       "      <td>chr1</td>\n",
       "      <td>14671</td>\n",
       "      <td>G</td>\n",
       "      <td>202.770004</td>\n",
       "      <td>.</td>\n",
       "      <td>2.0</td>\n",
       "      <td>-1.555</td>\n",
       "      <td>0.4</td>\n",
       "      <td>18.0</td>\n",
       "      <td>0.0</td>\n",
       "      <td>...</td>\n",
       "      <td>.</td>\n",
       "      <td>n.*2698C&gt;G</td>\n",
       "      <td>.</td>\n",
       "      <td>.</td>\n",
       "      <td>.</td>\n",
       "      <td>.</td>\n",
       "      <td>2698</td>\n",
       "      <td>.</td>\n",
       "      <td>.</td>\n",
       "      <td>bm23_48263</td>\n",
       "    </tr>\n",
       "    <tr>\n",
       "      <th>9</th>\n",
       "      <td>chr1</td>\n",
       "      <td>14671</td>\n",
       "      <td>G</td>\n",
       "      <td>202.770004</td>\n",
       "      <td>.</td>\n",
       "      <td>2.0</td>\n",
       "      <td>-1.555</td>\n",
       "      <td>0.4</td>\n",
       "      <td>18.0</td>\n",
       "      <td>0.0</td>\n",
       "      <td>...</td>\n",
       "      <td>.</td>\n",
       "      <td>n.*2698C&gt;G</td>\n",
       "      <td>.</td>\n",
       "      <td>.</td>\n",
       "      <td>.</td>\n",
       "      <td>.</td>\n",
       "      <td>2698</td>\n",
       "      <td>.</td>\n",
       "      <td>.</td>\n",
       "      <td>bm23_48263</td>\n",
       "    </tr>\n",
       "  </tbody>\n",
       "</table>\n",
       "<p>10 rows × 271 columns</p>\n",
       "</div>"
      ],
      "text/plain": [
       "  CHROM    POS REF        QUAL FILTER   AN BASEQRANKSUM CLIPPINGRANKSUM    DP  \\\n",
       "0  chr1  14653   C       48.77      .  2.0        0.217           -0.65  15.0   \n",
       "1  chr1  14653   C       48.77      .  2.0        0.217           -0.65  15.0   \n",
       "2  chr1  14653   C       48.77      .  2.0        0.217           -0.65  15.0   \n",
       "3  chr1  14653   C       48.77      .  2.0        0.217           -0.65  15.0   \n",
       "4  chr1  14653   C       48.77      .  2.0        0.217           -0.65  15.0   \n",
       "5  chr1  14653   C       48.77      .  2.0        0.217           -0.65  15.0   \n",
       "6  chr1  14671   G  202.770004      .  2.0       -1.555             0.4  18.0   \n",
       "7  chr1  14671   G  202.770004      .  2.0       -1.555             0.4  18.0   \n",
       "8  chr1  14671   G  202.770004      .  2.0       -1.555             0.4  18.0   \n",
       "9  chr1  14671   G  202.770004      .  2.0       -1.555             0.4  18.0   \n",
       "\n",
       "    FS  ...   RANK      HGVS.C HGVS.P CDNA.POS / CDNA.LENGTH  \\\n",
       "0  0.0  ...      .   n.*244C>T      .                      .   \n",
       "1  0.0  ...      .  n.*2716G>A      .                      .   \n",
       "2  0.0  ...      .  n.*2716G>A      .                      .   \n",
       "3  0.0  ...      .  n.*2716G>A      .                      .   \n",
       "4  0.0  ...      .  n.*2716G>A      .                      .   \n",
       "5  0.0  ...  11/11   n.1478G>A      .                      .   \n",
       "6  0.0  ...      .   n.*262G>C      .                      .   \n",
       "7  0.0  ...      .  n.*2698C>G      .                      .   \n",
       "8  0.0  ...      .  n.*2698C>G      .                      .   \n",
       "9  0.0  ...      .  n.*2698C>G      .                      .   \n",
       "\n",
       "  CDS.POS / CDS.LENGTH AA.POS / AA.LENGTH DISTANCE ERRORS / WARNINGS / INFO  \\\n",
       "0                    .                  .      244                        .   \n",
       "1                    .                  .     2716                        .   \n",
       "2                    .                  .     2716                        .   \n",
       "3                    .                  .     2716                        .   \n",
       "4                    .                  .     2716                        .   \n",
       "5                    .                  .        .                        .   \n",
       "6                    .                  .      262                        .   \n",
       "7                    .                  .     2698                        .   \n",
       "8                    .                  .     2698                        .   \n",
       "9                    .                  .     2698                        .   \n",
       "\n",
       "  AMINOCHANGE      sample  \n",
       "0           .  bm23_48263  \n",
       "1           .  bm23_48263  \n",
       "2           .  bm23_48263  \n",
       "3           .  bm23_48263  \n",
       "4           .  bm23_48263  \n",
       "5           .  bm23_48263  \n",
       "6           .  bm23_48263  \n",
       "7           .  bm23_48263  \n",
       "8           .  bm23_48263  \n",
       "9           .  bm23_48263  \n",
       "\n",
       "[10 rows x 271 columns]"
      ]
     },
     "execution_count": 11,
     "metadata": {},
     "output_type": "execute_result"
    }
   ],
   "source": [
    "df"
   ]
  },
  {
   "cell_type": "code",
   "execution_count": 12,
   "metadata": {},
   "outputs": [],
   "source": [
    "conn.close()"
   ]
  },
  {
   "cell_type": "code",
   "execution_count": 14,
   "metadata": {},
   "outputs": [
    {
     "data": {
      "text/plain": [
       "'0.10.0'"
      ]
     },
     "execution_count": 14,
     "metadata": {},
     "output_type": "execute_result"
    }
   ],
   "source": [
    "duckdb.__version__"
   ]
  },
  {
   "cell_type": "code",
   "execution_count": null,
   "metadata": {},
   "outputs": [],
   "source": []
  },
  {
   "cell_type": "code",
   "execution_count": 8,
   "metadata": {},
   "outputs": [],
   "source": [
    "schema = conn.execute(f'SELECT * FROM \"{patient_list[0][1]}\" LIMIT 1').fetchdf()"
   ]
  },
  {
   "cell_type": "code",
   "execution_count": 9,
   "metadata": {},
   "outputs": [
    {
     "data": {
      "text/plain": [
       "CHROM                       object\n",
       "POS                          int64\n",
       "REF                         object\n",
       "QUAL                        object\n",
       "FILTER                      object\n",
       "                             ...  \n",
       "CDS.POS / CDS.LENGTH        object\n",
       "AA.POS / AA.LENGTH          object\n",
       "DISTANCE                    object\n",
       "ERRORS / WARNINGS / INFO    object\n",
       "AMINOCHANGE                 object\n",
       "Length: 270, dtype: object"
      ]
     },
     "execution_count": 9,
     "metadata": {},
     "output_type": "execute_result"
    }
   ],
   "source": [
    "schema.dtypes"
   ]
  },
  {
   "cell_type": "code",
   "execution_count": 17,
   "metadata": {},
   "outputs": [],
   "source": [
    "col_list = conn.execute(\"SELECT COLUMN_NAME FROM INFORMATION_SCHEMA.COLUMNS WHERE TABLE_NAME = 'exome_patients'\").fetchdf().column_name.tolist()"
   ]
  },
  {
   "cell_type": "code",
   "execution_count": null,
   "metadata": {},
   "outputs": [],
   "source": []
  }
 ],
 "metadata": {
  "kernelspec": {
   "display_name": ".venv",
   "language": "python",
   "name": "python3"
  },
  "language_info": {
   "codemirror_mode": {
    "name": "ipython",
    "version": 3
   },
   "file_extension": ".py",
   "mimetype": "text/x-python",
   "name": "python",
   "nbconvert_exporter": "python",
   "pygments_lexer": "ipython3",
   "version": "3.11.3"
  },
  "orig_nbformat": 4
 },
 "nbformat": 4,
 "nbformat_minor": 2
}
