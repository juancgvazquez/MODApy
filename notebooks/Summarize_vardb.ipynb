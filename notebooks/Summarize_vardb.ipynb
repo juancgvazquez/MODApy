{
 "cells": [
  {
   "cell_type": "code",
   "execution_count": 1,
   "id": "1da2ca56",
   "metadata": {},
   "outputs": [],
   "source": [
    "import duckdb\n"
   ]
  },
  {
   "cell_type": "code",
   "execution_count": 14,
   "id": "bc9218e0",
   "metadata": {},
   "outputs": [
    {
     "ename": "IOException",
     "evalue": "IO Error: No files found that match the pattern \"../../data/vardb/vardb-prioritized.parquet/*.parquet\"",
     "output_type": "error",
     "traceback": [
      "\u001b[0;31m---------------------------------------------------------------------------\u001b[0m",
      "\u001b[0;31mIOException\u001b[0m                               Traceback (most recent call last)",
      "Cell \u001b[0;32mIn[14], line 1\u001b[0m\n\u001b[0;32m----> 1\u001b[0m \u001b[43mduckdb\u001b[49m\u001b[38;5;241;43m.\u001b[39;49m\u001b[43mquery\u001b[49m\u001b[43m(\u001b[49m\u001b[38;5;124;43m\"\u001b[39;49m\u001b[38;5;124;43mSELECT * FROM parquet_scan(\u001b[39;49m\u001b[38;5;124;43m'\u001b[39;49m\u001b[38;5;124;43m../../data/vardb/vardb-prioritized.parquet/*.parquet\u001b[39;49m\u001b[38;5;124;43m'\u001b[39;49m\u001b[38;5;124;43m, HIVE_PARTITIONING=1)\u001b[39;49m\u001b[38;5;124;43m\"\u001b[39;49m\u001b[43m)\u001b[49m\n",
      "\u001b[0;31mIOException\u001b[0m: IO Error: No files found that match the pattern \"../../data/vardb/vardb-prioritized.parquet/*.parquet\""
     ]
    }
   ],
   "source": [
    "duckdb.query(\"SELECT * FROM parquet_scan('../../data/vardb/vardb-prioritized.parquet/*/*.parquet', HIVE_PARTITIONING=1)\")"
   ]
  },
  {
   "cell_type": "code",
   "execution_count": null,
   "id": "8540976e",
   "metadata": {},
   "outputs": [],
   "source": [
    "SELECT \n",
    "    id, value, CAST(part AS INT) as part_cast, CAST(date AS DATE) as date_cast \n",
    "FROM \n",
    "    read_csv_auto('data/csv/hive-partitioning/types/*/*/test.csv', HIVE_PARTITIONING=1, HEADER=1) \n",
    "WHERE \n",
    "    date_cast > CAST('2000-01-01' as DATE) and date_cast < CAST('2012-12-12' as DATE);"
   ]
  }
 ],
 "metadata": {
  "kernelspec": {
   "display_name": "Python 3 (ipykernel)",
   "language": "python",
   "name": "python3"
  },
  "language_info": {
   "codemirror_mode": {
    "name": "ipython",
    "version": 3
   },
   "file_extension": ".py",
   "mimetype": "text/x-python",
   "name": "python",
   "nbconvert_exporter": "python",
   "pygments_lexer": "ipython3",
   "version": "3.11.3"
  }
 },
 "nbformat": 4,
 "nbformat_minor": 5
}
